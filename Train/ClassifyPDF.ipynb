{
 "cells": [
  {
   "cell_type": "code",
   "execution_count": 1,
   "id": "8933ae15-66d3-4d3b-8c7c-d33ec8f4452b",
   "metadata": {},
   "outputs": [],
   "source": [
    "%load_ext pycodestyle_magic\n",
    "%pycodestyle_on\n",
    "# Загрузка линтера"
   ]
  },
  {
   "cell_type": "code",
   "execution_count": 2,
   "id": "a2487047-15da-4797-aa79-fcaaf09383dc",
   "metadata": {},
   "outputs": [],
   "source": [
    "import pickle\n",
    "import sklearn\n",
    "\n",
    "# Загрузка tf -idf эмбеддинга\n",
    "vectorizer = None\n",
    "with open('SVC/vec.pickle', 'rb') as f:\n",
    "    vectorizer = pickle.load(f)\n",
    "\n",
    "# Загрузка SVC модели\n",
    "SVC = None\n",
    "with open('SVC/svc.pickle', 'rb') as f:\n",
    "    SVC = pickle.load(f)"
   ]
  },
  {
   "cell_type": "markdown",
   "id": "c6f78462-03c4-48b0-b931-b5f5b088b58a",
   "metadata": {},
   "source": [
    "## **Чтение pdf и классификация**"
   ]
  },
  {
   "cell_type": "code",
   "execution_count": 3,
   "id": "69511519-ea8b-44af-b605-0c4f2cf97160",
   "metadata": {},
   "outputs": [],
   "source": [
    "from PyPDF2 import PdfReader\n",
    "\n",
    "\n",
    "# Чтение pdf файла при помощи Pypdf2\n",
    "def getText(path: str) -> str:\n",
    "    reader = PdfReader(path)\n",
    "    number_of_pages = len(reader.pages)\n",
    "\n",
    "    # Итерация по страницам и добавление текста страницы в\n",
    "    # в полный тест документа\n",
    "    fullDocText = \"\"\n",
    "    for i in range(number_of_pages):\n",
    "        page = reader.pages[i]\n",
    "        fullDocText += page.extract_text()\n",
    "\n",
    "    return fullDocText"
   ]
  },
  {
   "cell_type": "code",
   "execution_count": 4,
   "id": "12d0eea6-d6db-4a1b-980d-bf49d68f20b6",
   "metadata": {},
   "outputs": [
    {
     "data": {
      "text/plain": [
       "'1 Automotive design\\nThe modern automobile is a complex technical system employing subsystems\\nwith specific design functions. Some of these consist of thousands of component\\nparts that have evolved from breakthroughs in existing technology or from new\\ntechnologies such as electronic computers, high-strength plastics, and new alloys\\nof steel and nonferrous metals. Some subsystems have come about as a result\\nof factors such as air pollution, safety legislation, and competition between\\nmanufacturers throughout the world.\\nPassenger cars have emerged as the primary means of family transportation,\\nwith an estimated 1.4 billion in operation worldwide. About one-quarter of these\\nare in the United States, where more than three trillion miles (almost five trillion\\nkilometres) are traveled each year. In recent years, Americans have been offered\\nhundreds of different models, about half of them from foreign manufacturers. To\\ncapitalize on their proprietary technological advances, manufacturers introduce\\nnew designs ever more frequently. With some 70 million new units built each\\nyear worldwide, manufacturers have been able to split the market into many\\nvery small segments that nonetheless remain profitable.\\nNew technical developments are recognized to be the key to successful com-\\npetition. Research and development engineers and scientists have been employed\\nby all automobile manufacturers and suppliers to improve the body, chassis, en-\\ngine, drivetrain, control systems, safety systems, and emission-control systems.\\n1'"
      ]
     },
     "execution_count": 4,
     "metadata": {},
     "output_type": "execute_result"
    }
   ],
   "source": [
    "# Файл с небольшим количеством pdf документов с текстами на различную тематику\n",
    "carPdfPath = \"pdfExamples/cars.pdf\"\n",
    "\n",
    "text = getText(carPdfPath)\n",
    "text"
   ]
  },
  {
   "cell_type": "markdown",
   "id": "fde7ed81-72b5-4c46-9681-9d607d1ee5f8",
   "metadata": {},
   "source": [
    "## **Импорт пайплайна**"
   ]
  },
  {
   "cell_type": "code",
   "execution_count": 14,
   "id": "22163c22-e94c-4ff3-8a65-e2214db1780b",
   "metadata": {},
   "outputs": [],
   "source": [
    "# Функции препроцессинга были вынесены в preprocess.py\n",
    "from preprocess import preprocess, target_names, compose\n",
    "import numpy as np\n",
    "\n",
    "\n",
    "# Классификаия текста\n",
    "def classifyText(text: str) -> str:\n",
    "\n",
    "    # Препроцессин и веторизация\n",
    "    processedText = preprocess(text)\n",
    "    vectorized = vectorizer.transform([processedText])\n",
    "\n",
    "    # Классификация - вывод npмассив\n",
    "    out = SVC.predict(vectorized)\n",
    "    # Выделение числа - ID класса из массива np.array -> int\n",
    "    clsId = np.squeeze(out)\n",
    "    # Получить название класса\n",
    "    cls = target_names[clsId]\n",
    "\n",
    "    return cls"
   ]
  },
  {
   "cell_type": "code",
   "execution_count": 13,
   "id": "b8439327-9cda-4818-b339-a9dc750ec409",
   "metadata": {},
   "outputs": [
    {
     "data": {
      "text/plain": [
       "'rec.autos'"
      ]
     },
     "execution_count": 13,
     "metadata": {},
     "output_type": "execute_result"
    }
   ],
   "source": [
    "classifyText(text)"
   ]
  },
  {
   "cell_type": "code",
   "execution_count": 17,
   "id": "89e9ac08-8ca3-4439-82a2-efea1f1cd876",
   "metadata": {},
   "outputs": [
    {
     "data": {
      "text/plain": [
       "'soc.religion.christian'"
      ]
     },
     "execution_count": 17,
     "metadata": {},
     "output_type": "execute_result"
    }
   ],
   "source": [
    "# Пайплайн для классификации файла\n",
    "classifyPdf = compose(classifyText,\n",
    "                      getText)\n",
    "\n",
    "classifyPdf(\"pdfExamples/Religion.pdf\")"
   ]
  },
  {
   "cell_type": "code",
   "execution_count": 20,
   "id": "a21271b7-f80a-414f-806e-6ffd2cfdeba9",
   "metadata": {},
   "outputs": [
    {
     "data": {
      "text/plain": [
       "'sci.electronics'"
      ]
     },
     "execution_count": 20,
     "metadata": {},
     "output_type": "execute_result"
    }
   ],
   "source": [
    "# Отдельного класса для компютерных наук не было в датасете\n",
    "classifyPdf(\"pdfExamples/Comp sci.pdf\")"
   ]
  }
 ],
 "metadata": {
  "kernelspec": {
   "display_name": "Python 3 (ipykernel)",
   "language": "python",
   "name": "python3"
  },
  "language_info": {
   "codemirror_mode": {
    "name": "ipython",
    "version": 3
   },
   "file_extension": ".py",
   "mimetype": "text/x-python",
   "name": "python",
   "nbconvert_exporter": "python",
   "pygments_lexer": "ipython3",
   "version": "3.10.18"
  }
 },
 "nbformat": 4,
 "nbformat_minor": 5
}
