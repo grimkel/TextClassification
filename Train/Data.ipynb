{
 "cells": [
  {
   "cell_type": "code",
   "execution_count": 2,
   "id": "6ca0d9ec-b1af-49be-8f72-6049d6b8f091",
   "metadata": {},
   "outputs": [
    {
     "name": "stdout",
     "output_type": "stream",
     "text": [
      "Collecting kagglehub\n",
      "  Downloading kagglehub-0.3.12-py3-none-any.whl.metadata (38 kB)\n",
      "Requirement already satisfied: packaging in /home/mainuser/anaconda3/envs/TextClassif/lib/python3.10/site-packages (from kagglehub) (25.0)\n",
      "Requirement already satisfied: pyyaml in /home/mainuser/anaconda3/envs/TextClassif/lib/python3.10/site-packages (from kagglehub) (6.0.2)\n",
      "Requirement already satisfied: requests in /home/mainuser/anaconda3/envs/TextClassif/lib/python3.10/site-packages (from kagglehub) (2.32.4)\n",
      "Collecting tqdm (from kagglehub)\n",
      "  Downloading tqdm-4.67.1-py3-none-any.whl.metadata (57 kB)\n",
      "Requirement already satisfied: charset_normalizer<4,>=2 in /home/mainuser/anaconda3/envs/TextClassif/lib/python3.10/site-packages (from requests->kagglehub) (3.4.2)\n",
      "Requirement already satisfied: idna<4,>=2.5 in /home/mainuser/anaconda3/envs/TextClassif/lib/python3.10/site-packages (from requests->kagglehub) (3.10)\n",
      "Requirement already satisfied: urllib3<3,>=1.21.1 in /home/mainuser/anaconda3/envs/TextClassif/lib/python3.10/site-packages (from requests->kagglehub) (2.5.0)\n",
      "Requirement already satisfied: certifi>=2017.4.17 in /home/mainuser/anaconda3/envs/TextClassif/lib/python3.10/site-packages (from requests->kagglehub) (2025.7.14)\n",
      "Downloading kagglehub-0.3.12-py3-none-any.whl (67 kB)\n",
      "Downloading tqdm-4.67.1-py3-none-any.whl (78 kB)\n",
      "Installing collected packages: tqdm, kagglehub\n",
      "\u001b[2K   \u001b[90m━━━━━━━━━━━━━━━━━━━━━━━━━━━━━━━━━━━━━━━━\u001b[0m \u001b[32m2/2\u001b[0m [kagglehub]\n",
      "\u001b[1A\u001b[2KSuccessfully installed kagglehub-0.3.12 tqdm-4.67.1\n"
     ]
    }
   ],
   "source": [
    "!pip3 install kagglehub"
   ]
  },
  {
   "cell_type": "code",
   "execution_count": 3,
   "id": "576faa2b-b99c-4910-8936-0d71342cf208",
   "metadata": {},
   "outputs": [
    {
     "name": "stderr",
     "output_type": "stream",
     "text": [
      "/home/mainuser/anaconda3/envs/TextClassif/lib/python3.10/site-packages/tqdm/auto.py:21: TqdmWarning: IProgress not found. Please update jupyter and ipywidgets. See https://ipywidgets.readthedocs.io/en/stable/user_install.html\n",
      "  from .autonotebook import tqdm as notebook_tqdm\n"
     ]
    },
    {
     "name": "stdout",
     "output_type": "stream",
     "text": [
      "Path to dataset files: /home/mainuser/.cache/kagglehub/datasets/crawford/20-newsgroups/versions/1\n"
     ]
    }
   ],
   "source": [
    "import kagglehub\n",
    "\n",
    "# Download latest version\n",
    "path = kagglehub.dataset_download(\"crawford/20-newsgroups\")\n",
    "\n",
    "print(\"Path to dataset files:\", path)"
   ]
  },
  {
   "cell_type": "code",
   "execution_count": 4,
   "id": "93e586ce-add6-4847-b4f4-2981dda603d5",
   "metadata": {},
   "outputs": [
    {
     "data": {
      "text/plain": [
       "['misc.forsale.txt',\n",
       " 'rec.motorcycles.txt',\n",
       " 'sci.med.txt',\n",
       " 'comp.graphics.txt',\n",
       " 'rec.sport.baseball.txt',\n",
       " 'comp.sys.mac.hardware.txt',\n",
       " 'talk.politics.misc.txt',\n",
       " 'rec.autos.txt',\n",
       " 'talk.politics.guns.txt',\n",
       " 'talk.politics.mideast.txt',\n",
       " 'sci.electronics.txt',\n",
       " 'list.csv',\n",
       " 'comp.os.ms-windows.misc.txt',\n",
       " 'soc.religion.christian.txt',\n",
       " 'sci.crypt.txt',\n",
       " 'comp.sys.ibm.pc.hardware.txt',\n",
       " 'rec.sport.hockey.txt',\n",
       " 'sci.space.txt',\n",
       " 'talk.religion.misc.txt',\n",
       " 'alt.atheism.txt',\n",
       " 'comp.windows.x.txt']"
      ]
     },
     "execution_count": 4,
     "metadata": {},
     "output_type": "execute_result"
    }
   ],
   "source": [
    "import os\n",
    "\n",
    "os.listdir(path)"
   ]
  },
  {
   "cell_type": "code",
   "execution_count": null,
   "id": "be80dfbf-4f5a-4908-9bd8-658c900807fa",
   "metadata": {},
   "outputs": [],
   "source": []
  },
  {
   "cell_type": "code",
   "execution_count": null,
   "id": "d1399501-5396-40e7-ac18-256b1375aa86",
   "metadata": {},
   "outputs": [],
   "source": []
  }
 ],
 "metadata": {
  "kernelspec": {
   "display_name": "Python 3 (ipykernel)",
   "language": "python",
   "name": "python3"
  },
  "language_info": {
   "codemirror_mode": {
    "name": "ipython",
    "version": 3
   },
   "file_extension": ".py",
   "mimetype": "text/x-python",
   "name": "python",
   "nbconvert_exporter": "python",
   "pygments_lexer": "ipython3",
   "version": "3.10.18"
  }
 },
 "nbformat": 4,
 "nbformat_minor": 5
}
